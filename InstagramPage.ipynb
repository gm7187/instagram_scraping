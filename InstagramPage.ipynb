{
 "cells": [
  {
   "cell_type": "code",
   "execution_count": null,
   "id": "2cbe9a6e",
   "metadata": {},
   "outputs": [],
   "source": [
    "!pip install selenium"
   ]
  },
  {
   "cell_type": "code",
   "execution_count": 21,
   "id": "bbeb0dce",
   "metadata": {},
   "outputs": [],
   "source": [
    "from selenium import webdriver\n",
    "from bs4 import BeautifulSoup as bs\n",
    "import time\n",
    "import re\n",
    "from urllib.request import urlopen\n",
    "import json\n",
    "from pandas.io.json import json_normalize\n",
    "import pandas as pd, numpy as np"
   ]
  },
  {
   "cell_type": "code",
   "execution_count": 23,
   "id": "61f3c314",
   "metadata": {},
   "outputs": [],
   "source": [
    "username='pickuplimes'\n",
    "browser = webdriver.Chrome('C:/Windows/chromedriver.exe')\n",
    "browser.get('https://www.instagram.com/'+username+'/?hl=en')\n",
    "Pagelength = browser.execute_script(\"window.scrollTo(0, document.body.scrollHeight);\")"
   ]
  },
  {
   "cell_type": "code",
   "execution_count": 29,
   "id": "94a9c5cf",
   "metadata": {},
   "outputs": [],
   "source": [
    "links=[]\n",
    "source = browser.page_source\n",
    "data=bs(source, 'html.parser')\n",
    "body = data.find('body')\n",
    "script = body.find('script', text=lambda t: t.startswith('window._sharedData'))"
   ]
  },
  {
   "cell_type": "code",
   "execution_count": 31,
   "id": "cce29c90",
   "metadata": {},
   "outputs": [],
   "source": [
    "page_json = script.string.split(' = ', 1)[1].rstrip(';')\n",
    "data = json.loads(page_json)"
   ]
  },
  {
   "cell_type": "code",
   "execution_count": 32,
   "id": "9714a7ab",
   "metadata": {},
   "outputs": [],
   "source": [
    "for link in data['entry_data']['ProfilePage'][0]['graphql']['user']['edge_owner_to_timeline_media']['edges']:\n",
    "    links.append('https://www.instagram.com'+'/p/'+link['node']['shortcode']+'/')"
   ]
  },
  {
   "cell_type": "code",
   "execution_count": 33,
   "id": "fedbf998",
   "metadata": {},
   "outputs": [
    {
     "data": {
      "text/plain": [
       "['https://www.instagram.com/p/CR4K7PLF82u/',\n",
       " 'https://www.instagram.com/p/CRwa3Q1lVl1/',\n",
       " 'https://www.instagram.com/p/CRt04GpFB9N/',\n",
       " 'https://www.instagram.com/p/CRrR4aGFkl2/',\n",
       " 'https://www.instagram.com/p/CRoq4zpFtk9/',\n",
       " 'https://www.instagram.com/p/CRmAANXnZAX/',\n",
       " 'https://www.instagram.com/p/CREi6VhFW1N/',\n",
       " 'https://www.instagram.com/p/CQoZyccFFNB/',\n",
       " 'https://www.instagram.com/p/CQRABPflUJP/',\n",
       " 'https://www.instagram.com/p/CP8mhiGFhhG/',\n",
       " 'https://www.instagram.com/p/CPYXJltlNtc/',\n",
       " 'https://www.instagram.com/p/CPI5qmbljSC/']"
      ]
     },
     "execution_count": 33,
     "metadata": {},
     "output_type": "execute_result"
    }
   ],
   "source": [
    "links"
   ]
  },
  {
   "cell_type": "code",
   "execution_count": 47,
   "id": "5dcc47ac",
   "metadata": {},
   "outputs": [],
   "source": [
    "# def scroll(driver, timeout):\n",
    "#     scroll_pause_time = timeout\n",
    "\n",
    "#     # Get scroll height\n",
    "#     last_height = driver.execute_script(\"return document.body.scrollHeight\")\n",
    "\n",
    "#     while True:\n",
    "#         # Scroll down to bottom\n",
    "#         driver.execute_script(\"window.scrollTo(0, document.body.scrollHeight);\")\n",
    "\n",
    "#         # Wait to load page\n",
    "#         time.sleep(scroll_pause_time)\n",
    "\n",
    "#         # Calculate new scroll height and compare with last scroll height\n",
    "#         new_height = driver.execute_script(\"return document.body.scrollHeight\")\n",
    "#         if new_height == last_height:\n",
    "#             # If heights are the same it will exit the function\n",
    "#             break\n",
    "#         last_height = new_height"
   ]
  },
  {
   "cell_type": "code",
   "execution_count": 1,
   "id": "6e21816c",
   "metadata": {},
   "outputs": [],
   "source": [
    "# from selenium import webdriver\n",
    "# from selenium.webdriver.common.keys import Keys\n",
    "# from selenium.webdriver.chrome.options import Options\n",
    "# from bs4 import BeautifulSoup\n",
    "\n",
    "# # Your options may be different\n",
    "# options = Options()\n",
    "# options.set_preference('permissions.default.image', 2)\n",
    "# options.set_preference('dom.ipc.plugins.enabled.libflashplayer.so', False)\n",
    "\n",
    "\n",
    "# def all_links(url):\n",
    "#     # Setup the driver. This one uses firefox with some options and a path to the geckodriver\n",
    "#     driver = webdriver.Chrome(options=options ,executable_path='C:/Users/gmsan/AppData/Local/Programs/Python/Python39/geckodriver.exe')\n",
    "#     # implicitly_wait tells the driver to wait before throwing an exception\n",
    "#     driver.implicitly_wait(30)\n",
    "#     # driver.get(url) opens the page\n",
    "#     driver.get(url)\n",
    "#     # This starts the scrolling by passing the driver and a timeout\n",
    "#     scroll(driver, 5)\n",
    "#     # Once scroll returns bs4 parsers the page_source\n",
    "#     soup_a = BeautifulSoup(driver.page_source, 'lxml')\n",
    "#     # Them we close the driver as soup_a is storing the page source\n",
    "#     driver.close()\n",
    "\n",
    "#     # Empty array to store the links\n",
    "#     links = []\n",
    "\n",
    "#     # Looping through all the a elements in the page source\n",
    "#     for link in soup_a.find_all('a'):\n",
    "#         # link.get('href') gets the href/url out of the a element\n",
    "#         links.append(link.get('href'))\n",
    "\n",
    "#     return links"
   ]
  },
  {
   "cell_type": "code",
   "execution_count": 49,
   "id": "0c5faa45",
   "metadata": {},
   "outputs": [],
   "source": [
    "# all_links('https://www.instagram.com/pickuplimes/')"
   ]
  },
  {
   "cell_type": "code",
   "execution_count": null,
   "id": "4f94a838",
   "metadata": {},
   "outputs": [],
   "source": [
    "# from bs4 import BeautifulSoup\n",
    "# import selenium.webdriver as webdriver\n",
    "\n",
    "# url = 'http://instagram.com/itx_musaa/'\n",
    "# driver = webdriver.Chrome('C:/Users/gmsan/AppData/Local/Programs/Python/Python39/Scripts/geckodriver.exe')\n",
    "# driver.get(url)\n",
    "\n",
    "# soup = BeautifulSoup(driver.page_source)"
   ]
  },
  {
   "cell_type": "code",
   "execution_count": null,
   "id": "1be641d7",
   "metadata": {},
   "outputs": [],
   "source": []
  },
  {
   "cell_type": "code",
   "execution_count": null,
   "id": "f2ad1670",
   "metadata": {},
   "outputs": [],
   "source": []
  },
  {
   "cell_type": "code",
   "execution_count": null,
   "id": "749557ea",
   "metadata": {},
   "outputs": [],
   "source": []
  },
  {
   "cell_type": "code",
   "execution_count": null,
   "id": "49200bc1",
   "metadata": {},
   "outputs": [],
   "source": []
  }
 ],
 "metadata": {
  "kernelspec": {
   "display_name": "Python 3",
   "language": "python",
   "name": "python3"
  },
  "language_info": {
   "codemirror_mode": {
    "name": "ipython",
    "version": 3
   },
   "file_extension": ".py",
   "mimetype": "text/x-python",
   "name": "python",
   "nbconvert_exporter": "python",
   "pygments_lexer": "ipython3",
   "version": "3.8.10"
  }
 },
 "nbformat": 4,
 "nbformat_minor": 5
}
